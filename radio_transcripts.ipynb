{
 "cells": [
  {
   "cell_type": "markdown",
   "metadata": {},
   "source": [
    "## Introduction\n",
    "We are going to use:\n",
    "\n",
    "portaudio (mac) and pyaudio (python) for listening to any scanner source\n",
    "\n",
    "SoX for removing silence from clips and creating new files for each clip\n",
    "\n",
    "The section below records to .wav:"
   ]
  },
  {
   "cell_type": "code",
   "execution_count": null,
   "metadata": {},
   "outputs": [],
   "source": [
    "\n",
    "import pyaudio\n",
    "import wave\n",
    "from datetime import datetime \n",
    "\n",
    "DATE = datetime.now().strftime(\"%Y_%m_%d-%I:%M:%S_%p\")\n",
    "\n",
    "FRAMES_PER_BUFFER = 3200\n",
    "FORMAT = pyaudio.paInt16\n",
    "CHANNELS = 1\n",
    "RATE = 44100\n",
    "RECORD_SECONDS = 60\n",
    "WAV_OUTPUT_FILENAME = \"audio_output.wav\"\n",
    "p = pyaudio.PyAudio()\n",
    " \n",
    "# starts recording\n",
    "stream = p.open(\n",
    "   format=FORMAT,\n",
    "   channels=CHANNELS,\n",
    "   rate=RATE,\n",
    "   input=True,\n",
    "   frames_per_buffer=FRAMES_PER_BUFFER\n",
    ")\n",
    "\n",
    "print(\"* recording\")\n",
    "\n",
    "frames = []\n",
    "\n",
    "for i in range(0, int(RATE / FRAMES_PER_BUFFER * RECORD_SECONDS)):\n",
    "    data = stream.read(FRAMES_PER_BUFFER)\n",
    "    frames.append(data)\n",
    "\n",
    "print(\"* done recording\")\n",
    "\n",
    "stream.stop_stream()\n",
    "stream.close()\n",
    "p.terminate()\n",
    "\n",
    "wf = wave.open(WAV_OUTPUT_FILENAME, 'wb')\n",
    "wf.setnchannels(CHANNELS)\n",
    "wf.setsampwidth(p.get_sample_size(FORMAT))\n",
    "wf.setframerate(RATE)\n",
    "wf.writeframes(b''.join(frames))\n",
    "wf.close()"
   ]
  },
  {
   "cell_type": "markdown",
   "metadata": {},
   "source": [
    "I made a file which has some spaces and white noise in it.\n",
    "\n",
    "Now we want to use SoX to split it up into different files.\n",
    "\n",
    "Awesome guide here: https://digitalcardboard.com/blog/2009/08/25/the-sox-of-silence/\n",
    "\n",
    "sox audio_output.wav audio_output_processed_.wav silence 1 0.5 1% 1 5.0 1% : newfile : restart\n",
    "\n",
    "Run this from within python:"
   ]
  },
  {
   "cell_type": "code",
   "execution_count": null,
   "metadata": {},
   "outputs": [],
   "source": [
    "import subprocess\n",
    "\n",
    "bashCommand = \"sox audio_output.wav audio_output_processed_.wav silence 1 0.5 1% 1 5.0 1% : newfile : restart\"\n",
    "process = subprocess.Popen(bashCommand.split(), stdout=subprocess.PIPE)\n",
    "output, error = process.communicate()"
   ]
  },
  {
   "cell_type": "markdown",
   "metadata": {},
   "source": [
    "Now to send it to the AssemblyAI API for transcripting:\n"
   ]
  },
  {
   "cell_type": "code",
   "execution_count": null,
   "metadata": {},
   "outputs": [],
   "source": [
    "import sys\n",
    "from configure import auth_key\n",
    "import requests\n",
    "import pprint\n",
    "from time import sleep\n",
    "\n",
    "FILENAME = \"/Users/stevenoneill/Documents/projects/python/audio_output.wav\"\n",
    " \n",
    "# store global constants\n",
    "headers = {\n",
    "   \"authorization\": \"auth_key\",\n",
    "   \"content-type\": \"application/json\"\n",
    "}\n",
    "transcript_endpoint = \"https://api.assemblyai.com/v2/transcript\"\n",
    "upload_endpoint = 'https://api.assemblyai.com/v2/upload'\n",
    " \n",
    "# make a function to pass the mp3 to the upload endpoint\n",
    "def read_file(filename):\n",
    "   with open(filename, 'rb') as _file:\n",
    "       while True:\n",
    "           data = _file.read(5242880)\n",
    "           if not data:\n",
    "               break\n",
    "           yield data\n",
    " \n",
    "# upload our audio file\n",
    "upload_response = requests.post(\n",
    "   upload_endpoint,\n",
    "   headers=headers, data=read_file(FILENAME)\n",
    ")\n",
    "print('Audio file uploaded')\n",
    " \n",
    "# send a request to transcribe the audio file\n",
    "transcript_request = {'audio_url': upload_response.json()['upload_url']}\n",
    "transcript_response = requests.post(transcript_endpoint, json=transcript_request, headers=headers)\n",
    "print('Transcription Requested')\n",
    "pprint.pprint(transcript_response.json())\n",
    "# set up polling\n",
    "polling_response = requests.get(transcript_endpoint+\"/\"+transcript_response.json()['id'], headers=headers)\n",
    "filename = transcript_response.json()['id'] + '.txt'\n",
    "# if our status isn’t complete, sleep and then poll again\n",
    "while polling_response.json()['status'] != 'completed':\n",
    "   sleep(30)\n",
    "   polling_response = requests.get(transcript_endpoint+\"/\"+transcript_response.json()['id'], headers=headers)\n",
    "   print(\"File is\", polling_response.json()['status'])\n",
    "with open(filename, 'w') as f:\n",
    "   f.write(polling_response.json()['text'])\n",
    "print('Transcript saved to', filename)"
   ]
  },
  {
   "cell_type": "code",
   "execution_count": 8,
   "metadata": {},
   "outputs": [],
   "source": [
    "import subprocess\n",
    "bashCommand = \"sox audio_output.wav audio_output_processed_.mp3 silence 1 0.1 1% 1 1.0 1% : newfile : restart\"\n",
    "process = subprocess.Popen(bashCommand.split(), stdout=subprocess.PIPE)\n",
    "output, error = process.communicate()"
   ]
  }
 ],
 "metadata": {
  "interpreter": {
   "hash": "edfadf95a0fa716610f968f4aa7a18ba5f917c56d8b1165bc6333c89acd21e3c"
  },
  "kernelspec": {
   "display_name": "Python 3.8.9 ('.venv': venv)",
   "language": "python",
   "name": "python3"
  },
  "language_info": {
   "codemirror_mode": {
    "name": "ipython",
    "version": 3
   },
   "file_extension": ".py",
   "mimetype": "text/x-python",
   "name": "python",
   "nbconvert_exporter": "python",
   "pygments_lexer": "ipython3",
   "version": "3.8.9"
  },
  "orig_nbformat": 4
 },
 "nbformat": 4,
 "nbformat_minor": 2
}
